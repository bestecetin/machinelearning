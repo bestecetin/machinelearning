{
 "cells": [
  {
   "cell_type": "code",
   "execution_count": 2,
   "id": "28b4c2fe",
   "metadata": {},
   "outputs": [],
   "source": [
    "import pandas as pd\n",
    "\n",
    "\n",
    "# %%  import data\n",
    "\n",
    "data = pd.read_csv(\"/Users/bestecetin/Desktop/machine_learning/data.csv\")\n",
    "data.drop([\"id\", \"Unnamed: 32\"], axis=1, inplace=True)"
   ]
  },
  {
   "cell_type": "code",
   "execution_count": 3,
   "id": "dede9986",
   "metadata": {},
   "outputs": [],
   "source": [
    "# Set M to 1 and other to 0\n",
    "data.diagnosis = [1 if each == \"M\" else 0 for each in data.diagnosis]\n",
    "y = data.diagnosis.values\n",
    "x_data = data.drop([\"diagnosis\"], axis=1)"
   ]
  },
  {
   "cell_type": "code",
   "execution_count": 4,
   "id": "3fe2e93d",
   "metadata": {},
   "outputs": [],
   "source": [
    "# %% normalization\n",
    "\n",
    "x = (x_data - x_data.min()) / (x_data.max() - x_data.min())"
   ]
  },
  {
   "cell_type": "code",
   "execution_count": 5,
   "id": "9b16e247",
   "metadata": {},
   "outputs": [],
   "source": [
    "# %% train test split\n",
    "from sklearn.model_selection import train_test_split\n",
    "\n",
    "x_train, x_test, y_train, y_test = train_test_split(x, y, test_size=0.15, random_state=42)"
   ]
  },
  {
   "cell_type": "code",
   "execution_count": 6,
   "id": "c61fc40c",
   "metadata": {},
   "outputs": [],
   "source": [
    "# %% decision tree\n",
    "from sklearn.tree import DecisionTreeClassifier"
   ]
  },
  {
   "cell_type": "code",
   "execution_count": 7,
   "id": "0ffd41a3",
   "metadata": {},
   "outputs": [
    {
     "name": "stdout",
     "output_type": "stream",
     "text": [
      "decision tree score:  0.9302325581395349\n"
     ]
    }
   ],
   "source": [
    "dt = DecisionTreeClassifier()\n",
    "dt.fit(x_train, y_train)\n",
    "print(\"decision tree score: \", dt.score(x_test, y_test))"
   ]
  },
  {
   "cell_type": "code",
   "execution_count": 9,
   "id": "9a70e112",
   "metadata": {},
   "outputs": [
    {
     "name": "stdout",
     "output_type": "stream",
     "text": [
      "random forest algo result(i=1):  0.9418604651162791\n",
      "random forest algo result(i=2):  0.9302325581395349\n",
      "random forest algo result(i=3):  0.9418604651162791\n",
      "random forest algo result(i=4):  0.9534883720930233\n",
      "random forest algo result(i=5):  0.9534883720930233\n",
      "random forest algo result(i=6):  0.9418604651162791\n",
      "random forest algo result(i=7):  0.9534883720930233\n",
      "random forest algo result(i=8):  0.9534883720930233\n",
      "random forest algo result(i=9):  0.9534883720930233\n",
      "random forest algo result(i=10):  0.9534883720930233\n",
      "random forest algo result(i=11):  0.9534883720930233\n",
      "random forest algo result(i=12):  0.9534883720930233\n",
      "random forest algo result(i=13):  0.9534883720930233\n",
      "random forest algo result(i=14):  0.9534883720930233\n",
      "random forest algo result(i=15):  0.9534883720930233\n",
      "random forest algo result(i=16):  0.9534883720930233\n",
      "random forest algo result(i=17):  0.9534883720930233\n",
      "random forest algo result(i=18):  0.9534883720930233\n",
      "random forest algo result(i=19):  0.9534883720930233\n",
      "random forest algo result(i=20):  0.9534883720930233\n",
      "random forest algo result(i=21):  0.9534883720930233\n",
      "random forest algo result(i=22):  0.9534883720930233\n",
      "random forest algo result(i=23):  0.9534883720930233\n",
      "random forest algo result(i=24):  0.9534883720930233\n",
      "random forest algo result(i=25):  0.9534883720930233\n",
      "random forest algo result(i=26):  0.9534883720930233\n",
      "random forest algo result(i=27):  0.9534883720930233\n",
      "random forest algo result(i=28):  0.9534883720930233\n",
      "random forest algo result(i=29):  0.9534883720930233\n",
      "random forest algo result(i=30):  0.9534883720930233\n",
      "random forest algo result(i=31):  0.9534883720930233\n",
      "random forest algo result(i=32):  0.9534883720930233\n",
      "random forest algo result(i=33):  0.9534883720930233\n",
      "random forest algo result(i=34):  0.9534883720930233\n",
      "random forest algo result(i=35):  0.9534883720930233\n",
      "random forest algo result(i=36):  0.9534883720930233\n",
      "random forest algo result(i=37):  0.9534883720930233\n",
      "random forest algo result(i=38):  0.9534883720930233\n",
      "random forest algo result(i=39):  0.9534883720930233\n",
      "random forest algo result(i=40):  0.9534883720930233\n",
      "random forest algo result(i=41):  0.9534883720930233\n",
      "random forest algo result(i=42):  0.9534883720930233\n",
      "random forest algo result(i=43):  0.9534883720930233\n",
      "random forest algo result(i=44):  0.9534883720930233\n",
      "random forest algo result(i=45):  0.9534883720930233\n",
      "random forest algo result(i=46):  0.9534883720930233\n",
      "random forest algo result(i=47):  0.9534883720930233\n",
      "random forest algo result(i=48):  0.9534883720930233\n",
      "random forest algo result(i=49):  0.9534883720930233\n",
      "random forest algo result(i=50):  0.9534883720930233\n",
      "random forest algo result(i=51):  0.9534883720930233\n",
      "random forest algo result(i=52):  0.9534883720930233\n",
      "random forest algo result(i=53):  0.9534883720930233\n",
      "random forest algo result(i=54):  0.9534883720930233\n",
      "random forest algo result(i=55):  0.9534883720930233\n",
      "random forest algo result(i=56):  0.9534883720930233\n",
      "random forest algo result(i=57):  0.9534883720930233\n",
      "random forest algo result(i=58):  0.9534883720930233\n",
      "random forest algo result(i=59):  0.9534883720930233\n",
      "random forest algo result(i=60):  0.9534883720930233\n",
      "random forest algo result(i=61):  0.9534883720930233\n",
      "random forest algo result(i=62):  0.9534883720930233\n",
      "random forest algo result(i=63):  0.9534883720930233\n",
      "random forest algo result(i=64):  0.9534883720930233\n",
      "random forest algo result(i=65):  0.9534883720930233\n",
      "random forest algo result(i=66):  0.9534883720930233\n",
      "random forest algo result(i=67):  0.9534883720930233\n",
      "random forest algo result(i=68):  0.9534883720930233\n",
      "random forest algo result(i=69):  0.9534883720930233\n",
      "random forest algo result(i=70):  0.9534883720930233\n",
      "random forest algo result(i=71):  0.9534883720930233\n",
      "random forest algo result(i=72):  0.9534883720930233\n",
      "random forest algo result(i=73):  0.9534883720930233\n",
      "random forest algo result(i=74):  0.9534883720930233\n",
      "random forest algo result(i=75):  0.9534883720930233\n",
      "random forest algo result(i=76):  0.9534883720930233\n",
      "random forest algo result(i=77):  0.9534883720930233\n",
      "random forest algo result(i=78):  0.9534883720930233\n",
      "random forest algo result(i=79):  0.9534883720930233\n",
      "random forest algo result(i=80):  0.9534883720930233\n",
      "random forest algo result(i=81):  0.9534883720930233\n",
      "random forest algo result(i=82):  0.9534883720930233\n",
      "random forest algo result(i=83):  0.9534883720930233\n",
      "random forest algo result(i=84):  0.9534883720930233\n",
      "random forest algo result(i=85):  0.9534883720930233\n",
      "random forest algo result(i=86):  0.9534883720930233\n",
      "random forest algo result(i=87):  0.9534883720930233\n",
      "random forest algo result(i=88):  0.9534883720930233\n",
      "random forest algo result(i=89):  0.9534883720930233\n",
      "random forest algo result(i=90):  0.9534883720930233\n",
      "random forest algo result(i=91):  0.9534883720930233\n",
      "random forest algo result(i=92):  0.9534883720930233\n",
      "random forest algo result(i=93):  0.9534883720930233\n",
      "random forest algo result(i=94):  0.9534883720930233\n",
      "random forest algo result(i=95):  0.9534883720930233\n",
      "random forest algo result(i=96):  0.9534883720930233\n",
      "random forest algo result(i=97):  0.9534883720930233\n",
      "random forest algo result(i=98):  0.9534883720930233\n",
      "random forest algo result(i=99):  0.9534883720930233\n"
     ]
    }
   ],
   "source": [
    "# %%  random forest\n",
    "from sklearn.ensemble import RandomForestClassifier\n",
    "\n",
    "for i in range(1, 100):\n",
    "    rf = RandomForestClassifier(n_estimators=i, random_state=1)\n",
    "    rf.fit(x_train, y_train)\n",
    "    print(\"random forest algo result(i={}): \".format(i), rf.score(x_test, y_test))"
   ]
  },
  {
   "cell_type": "code",
   "execution_count": null,
   "id": "09b0c542",
   "metadata": {},
   "outputs": [],
   "source": []
  }
 ],
 "metadata": {
  "kernelspec": {
   "display_name": "Python 3 (ipykernel)",
   "language": "python",
   "name": "python3"
  },
  "language_info": {
   "codemirror_mode": {
    "name": "ipython",
    "version": 3
   },
   "file_extension": ".py",
   "mimetype": "text/x-python",
   "name": "python",
   "nbconvert_exporter": "python",
   "pygments_lexer": "ipython3",
   "version": "3.9.7"
  }
 },
 "nbformat": 4,
 "nbformat_minor": 5
}
