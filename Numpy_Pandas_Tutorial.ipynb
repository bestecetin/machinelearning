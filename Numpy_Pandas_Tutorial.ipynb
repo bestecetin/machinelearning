{
 "cells": [
  {
   "cell_type": "code",
   "execution_count": null,
   "id": "91f1805f",
   "metadata": {},
   "outputs": [],
   "source": [
    "#NUMPY TUTORIAL"
   ]
  },
  {
   "cell_type": "code",
   "execution_count": 2,
   "id": "172153db",
   "metadata": {},
   "outputs": [],
   "source": [
    "import numpy as np "
   ]
  },
  {
   "cell_type": "code",
   "execution_count": 3,
   "id": "e64c8c19",
   "metadata": {},
   "outputs": [
    {
     "name": "stdout",
     "output_type": "stream",
     "text": [
      "[1.2 2.3 3.4 4.5 5.6 6.7]\n"
     ]
    }
   ],
   "source": [
    "tekBoyutluDizi= np.array([1.2,2.3,3.4,4.5,5.6,6.7])\n",
    "print(tekBoyutluDizi)"
   ]
  },
  {
   "cell_type": "code",
   "execution_count": 4,
   "id": "f2449ac1",
   "metadata": {},
   "outputs": [
    {
     "name": "stdout",
     "output_type": "stream",
     "text": [
      "[[1.2]\n",
      " [1.3]\n",
      " [1.4]\n",
      " [1.5]]\n"
     ]
    }
   ],
   "source": [
    "ikiBoyutluDizi=np.array([[1.2],[1.3],[1.4],[1.5]])\n",
    "print(ikiBoyutluDizi)"
   ]
  },
  {
   "cell_type": "code",
   "execution_count": 8,
   "id": "482ce78b",
   "metadata": {},
   "outputs": [
    {
     "name": "stdout",
     "output_type": "stream",
     "text": [
      "[ 5  6  7  8  9 10 11]\n"
     ]
    }
   ],
   "source": [
    "dizi=np.arange(5,12) #5 dahil 12 dahil değil arasında sayı dizisi oluştur.\n",
    "print(dizi)"
   ]
  },
  {
   "cell_type": "code",
   "execution_count": 17,
   "id": "55d480f1",
   "metadata": {},
   "outputs": [
    {
     "data": {
      "text/plain": [
       "array([[0, 0],\n",
       "       [0, 0]], dtype=int16)"
      ]
     },
     "execution_count": 17,
     "metadata": {},
     "output_type": "execute_result"
    }
   ],
   "source": [
    "np.zeros((2,2), dtype=np.int16)"
   ]
  },
  {
   "cell_type": "code",
   "execution_count": 36,
   "id": "5bdb1819",
   "metadata": {},
   "outputs": [
    {
     "name": "stdout",
     "output_type": "stream",
     "text": [
      "[86 56 61 64 86 93]\n"
     ]
    }
   ],
   "source": [
    "random_integers_between_50_and_100= np.random.randint(low=50, high=101, size=(6)) #50 ile 100 arasında random 6 tane elemanlı vektör oluştur.\n",
    "print(random_integers_between_50_and_100)"
   ]
  },
  {
   "cell_type": "code",
   "execution_count": 28,
   "id": "50f8c12d",
   "metadata": {},
   "outputs": [
    {
     "name": "stdout",
     "output_type": "stream",
     "text": [
      "[0.95305558 0.26680847 0.18622096]\n"
     ]
    }
   ],
   "source": [
    "random_floats=np.random.random([3]) # np.random.random 0.0 ve 1.0 arasında random sayı üretir\n",
    "print(random_floats)"
   ]
  },
  {
   "cell_type": "code",
   "execution_count": 29,
   "id": "cd53d127",
   "metadata": {},
   "outputs": [
    {
     "name": "stdout",
     "output_type": "stream",
     "text": [
      "[2.95305558 2.26680847 2.18622096]\n"
     ]
    }
   ],
   "source": [
    "random_floats_between_2_and_3 = random_floats + 2.0 #yukarıdaki vektördeki her ögeye 2.0 ekledi böylece değerleriniz 2.0 ve 3.o arasında oldu.\n",
    "print(random_floats_between_2_and_3)"
   ]
  },
  {
   "cell_type": "code",
   "execution_count": 38,
   "id": "ca533450",
   "metadata": {},
   "outputs": [
    {
     "name": "stdout",
     "output_type": "stream",
     "text": [
      "[258 168 183 192 258 279]\n"
     ]
    }
   ],
   "source": [
    "random_integers_between_150_and_300=random_integers_between_50_and_100*3 #yukarıdaki 50 ile 100 arasındaki 6 elemanlı vektörün her bir elemanını 3 ile çarptık.\n",
    "print(random_integers_between_150_and_300)"
   ]
  },
  {
   "cell_type": "code",
   "execution_count": 39,
   "id": "7640ec4a",
   "metadata": {},
   "outputs": [
    {
     "name": "stdout",
     "output_type": "stream",
     "text": [
      "[ 6  7  8  9 10 11 12 13 14 15 16 17 18 19 20]\n",
      "[22 25 28 31 34 37 40 43 46 49 52 55 58 61 64]\n"
     ]
    }
   ],
   "source": [
    "#TASK1\n",
    "#1.Feature adlı bir NumPy dizisine 6 ila 20 (dahil) arasındaki tam sayı dizisini atayın.\n",
    "#2.Label adlı bir NumPy dizisine şu şekilde 15 değer atayın: label = (3)(feature) + 4\n",
    "feature=np.arange(6,21)\n",
    "print(feature)\n",
    "label=(feature*3)+4\n",
    "print(label)\n"
   ]
  },
  {
   "cell_type": "code",
   "execution_count": 48,
   "id": "99105ea4",
   "metadata": {},
   "outputs": [
    {
     "name": "stdout",
     "output_type": "stream",
     "text": [
      "[24.46117934 17.06776044 39.05613904 29.73194918 34.91476726 37.0509158\n",
      " 43.10694731 36.39183113 44.74754475 46.95807619 50.72277496 56.2080516\n",
      " 57.25692269 58.44039954 66.35265858]\n"
     ]
    }
   ],
   "source": [
    "#TASK2\n",
    "#-2 ile +2 arasında farklı bir rastgele kayan nokta değeri ekleyerek label'a atanan her değeri değiştirin.\n",
    "#label ile aynı boyuta sahip noise dizisi oluşturun.\n",
    "noise = (np.random.random([15]) * 4) - 2\n",
    "label = label + noise \n",
    "print(label)"
   ]
  },
  {
   "cell_type": "code",
   "execution_count": 52,
   "id": "befd48b0",
   "metadata": {},
   "outputs": [],
   "source": [
    "#PANDAS TUTORIAL\n",
    "import pandas as pd"
   ]
  },
  {
   "cell_type": "code",
   "execution_count": 64,
   "id": "3756125d",
   "metadata": {},
   "outputs": [
    {
     "name": "stdout",
     "output_type": "stream",
     "text": [
      "   temparature  activity\n",
      "0            0         3\n",
      "1            2         7\n",
      "2           15         4\n",
      "3           -3         4\n",
      "4           31         8\n",
      "5           10         2\n",
      "6           34         8\n"
     ]
    }
   ],
   "source": [
    "myData=np.array([[0,3],[2,7],[15,4],[-3,4],[31,8],[10,2],[34,8]]) #7x2'lik bir numpy array\n",
    "column_names=['temparature','activity'] #sütun isimleri\n",
    "data_frame=pd.DataFrame(data=myData,columns=column_names) #dataframe oluşturduk\n",
    "print(data_frame)\n"
   ]
  },
  {
   "cell_type": "code",
   "execution_count": 65,
   "id": "2f0a30b6",
   "metadata": {},
   "outputs": [
    {
     "name": "stdout",
     "output_type": "stream",
     "text": [
      "Rows #0, #1 and #2:\n",
      "   temparature  activity\n",
      "0            0         3\n",
      "1            2         7\n",
      "2           15         4 \n",
      "\n"
     ]
    }
   ],
   "source": [
    "print(\"Rows #0, #1 and #2:\")\n",
    "print(data_frame.head(3),'\\n') #ilk 3 dataframe verisini görüntüledik."
   ]
  },
  {
   "cell_type": "code",
   "execution_count": 59,
   "id": "7c0c0564",
   "metadata": {},
   "outputs": [
    {
     "name": "stdout",
     "output_type": "stream",
     "text": [
      "Row #2:\n",
      "   temparature  activity\n",
      "2           15         4 \n",
      "\n"
     ]
    }
   ],
   "source": [
    "print(\"Row #2:\")\n",
    "print(data_frame.iloc[[2]],'\\n')#2. indisteki veriler gelir.\n"
   ]
  },
  {
   "cell_type": "code",
   "execution_count": 69,
   "id": "ba752791",
   "metadata": {},
   "outputs": [
    {
     "name": "stdout",
     "output_type": "stream",
     "text": [
      "Rows #1, #2 and #3:\n",
      "   temparature  activity\n",
      "2           15         4\n",
      "3           -3         4\n",
      "4           31         8 \n",
      "\n"
     ]
    }
   ],
   "source": [
    "print(\"Rows #1, #2 and #3:\")\n",
    "print(data_frame[2:5],'\\n') #birinci indis dahil fakat ikinci indis dahil değil yani 2 ve 4 dahil aradaki de veriler gelecek."
   ]
  },
  {
   "cell_type": "code",
   "execution_count": 71,
   "id": "802d9fcf",
   "metadata": {},
   "outputs": [
    {
     "name": "stdout",
     "output_type": "stream",
     "text": [
      "Column 'temparature:'\n",
      "0     0\n",
      "1     2\n",
      "2    15\n",
      "3    -3\n",
      "4    31\n",
      "5    10\n",
      "6    34\n",
      "Name: temparature, dtype: int64\n"
     ]
    }
   ],
   "source": [
    "print(\"Column 'temparature:'\")\n",
    "print(data_frame['temparature'])#sadece temparature sütunu verilerini getirir."
   ]
  },
  {
   "cell_type": "code",
   "execution_count": 95,
   "id": "c7b58b27",
   "metadata": {},
   "outputs": [
    {
     "name": "stdout",
     "output_type": "stream",
     "text": [
      "   Eleanor  Chidi  Tahani  Jason\n",
      "0       82     20      98     54\n",
      "1       34     71      70      7\n",
      "2       67     34      77     72\n",
      "the value in the cell of row #1 of the Eleanor column:  34\n",
      "   Eleanor  Chidi  Tahani  Jason  Janet\n",
      "0       82     20      98     54    152\n",
      "1       34     71      70      7     77\n",
      "2       67     34      77     72    149\n"
     ]
    }
   ],
   "source": [
    "#TASK1\n",
    "#Create an 3x4 (3 rows x 4 columns) pandas DataFrame in which the columns are named \n",
    "#Eleanor, Chidi, Tahani, and Jason. Populate each of the 12 cells in the DataFrame with a random integer \n",
    "#between 0 and 100, inclusive.\n",
    "#Output the following:\n",
    "#the entire DataFrame\n",
    "#the value in the cell of row #1 of the Eleanor column\n",
    "#Create a fifth column named Janet, which is populated with the row-by-row sums of Tahani and Jason.\n",
    "people=['Eleanor','Chidi','Tahani','Jason']\n",
    "r_int=np.random.randint(low=0,high=101,size=(3,4))\n",
    "people_df=pd.DataFrame(data=r_int,columns=people)\n",
    "print(people_df)\n",
    "\n",
    "print(\"the value in the cell of row #1 of the Eleanor column: \",people_df['Eleanor'][1])\n",
    "\n",
    "people_df['Janet']=people_df['Tahani']+people_df['Jason']\n",
    "print(people_df)\n"
   ]
  },
  {
   "cell_type": "code",
   "execution_count": 114,
   "id": "e9fe61b0",
   "metadata": {},
   "outputs": [
    {
     "name": "stdout",
     "output_type": "stream",
     "text": [
      "    A   B   C\n",
      "4   0   2   3\n",
      "5   0   4   1\n",
      "6  10  20  30\n"
     ]
    }
   ],
   "source": [
    "df = pd.DataFrame([[0, 2, 3], [0, 4, 1], [10, 20, 30]],\n",
    "                  index=[4, 5, 6], columns=['A', 'B', 'C'])\n",
    "print(df)\n",
    "reference_to_df=df; "
   ]
  },
  {
   "cell_type": "code",
   "execution_count": 115,
   "id": "c48107ba",
   "metadata": {},
   "outputs": [
    {
     "name": "stdout",
     "output_type": "stream",
     "text": [
      "Güncellenmis df=12\n",
      "Güncellenmiş referans df=12\n"
     ]
    }
   ],
   "source": [
    "df.at[5,'B']=df['B'][5]+8 #at=>Access a single value using a label.\n",
    "print(\"Güncellenmis df=%d\"%df['B'][5])\n",
    "print(\"Güncellenmiş referans df=%d\"%reference_to_df['B'][5])"
   ]
  },
  {
   "cell_type": "code",
   "execution_count": 117,
   "id": "47644080",
   "metadata": {},
   "outputs": [
    {
     "name": "stdout",
     "output_type": "stream",
     "text": [
      "Güncellenmis df=20\n",
      "Güncellenmis copy df=10\n"
     ]
    }
   ],
   "source": [
    "copy_of_my_df=df.copy()\n",
    "df.at[4,'A']=df['A'][4]+10\n",
    "print(\"Güncellenmis df=%d\"%df['A'][4])\n",
    "print(\"Güncellenmis copy df=%d\"%copy_of_my_df['A'][4])\n"
   ]
  },
  {
   "cell_type": "code",
   "execution_count": 118,
   "id": "7b06e295",
   "metadata": {},
   "outputs": [
    {
     "name": "stdout",
     "output_type": "stream",
     "text": [
      "    A   B   C\n",
      "4  20   2   3\n",
      "5   0  12   1\n",
      "6  10  20  30\n"
     ]
    }
   ],
   "source": [
    "print(df)"
   ]
  },
  {
   "cell_type": "code",
   "execution_count": null,
   "id": "32f5c026",
   "metadata": {},
   "outputs": [],
   "source": []
  }
 ],
 "metadata": {
  "kernelspec": {
   "display_name": "Python 3 (ipykernel)",
   "language": "python",
   "name": "python3"
  },
  "language_info": {
   "codemirror_mode": {
    "name": "ipython",
    "version": 3
   },
   "file_extension": ".py",
   "mimetype": "text/x-python",
   "name": "python",
   "nbconvert_exporter": "python",
   "pygments_lexer": "ipython3",
   "version": "3.9.7"
  }
 },
 "nbformat": 4,
 "nbformat_minor": 5
}
