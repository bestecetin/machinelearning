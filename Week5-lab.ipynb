{
 "cells": [
  {
   "cell_type": "code",
   "execution_count": 2,
   "metadata": {},
   "outputs": [],
   "source": [
    "import pandas as pd\n",
    "import matplotlib.pyplot as plt"
   ]
  },
  {
   "cell_type": "code",
   "execution_count": 3,
   "metadata": {},
   "outputs": [],
   "source": [
    "df = pd.read_csv(\"/Users/bestecetin/Desktop/machine_learning/week5/linear-regression-dataset.csv\",sep = \";\")"
   ]
  },
  {
   "cell_type": "code",
   "execution_count": 4,
   "metadata": {
    "scrolled": false
   },
   "outputs": [
    {
     "data": {
      "image/png": "[encoded data removed]",
      "text/plain": [
       "<Figure size 432x288 with 1 Axes>"
      ]
     },
     "metadata": {
      "needs_background": "light"
     },
     "output_type": "display_data"
    }
   ],
   "source": [
    "plt.scatter(df.experience,df.salary) \n",
    "plt.xlabel(\"deneyim\")\n",
    "plt.ylabel(\"maas\")\n",
    "plt.show()"
   ]
  },
  {
   "cell_type": "code",
   "execution_count": 5,
   "metadata": {},
   "outputs": [
    {
     "data": {
      "text/plain": [
       "LinearRegression()"
      ]
     },
     "execution_count": 5,
     "metadata": {},
     "output_type": "execute_result"
    }
   ],
   "source": [
    "#linear regression\n",
    "from sklearn.linear_model import LinearRegression\n",
    "line_reg = LinearRegression()\n",
    "x = df.experience.values.reshape(14,1) #reshape:Verilerini değiştirmeden diziye yeni bir şekil verir.\n",
    "y = df.salary.values.reshape(14,1)\n",
    "line_reg.fit(x,y) #Linear Regression sınıfının fit() metodunu kullanarak modelimizi eğitiyoruz.\n"
   ]
  },
  {
   "cell_type": "code",
   "execution_count": 6,
   "metadata": {},
   "outputs": [
    {
     "name": "stdout",
     "output_type": "stream",
     "text": [
      "b0:  [[1663.89519747]]\n"
     ]
    }
   ],
   "source": [
    "#prediction\n",
    "import numpy as np\n",
    "b0 = line_reg.predict([[0]]) #Doğrusal modeli kullanarak tahmin yapıyoruz\n",
    "print(\"b0: \",b0)\n"
   ]
  },
  {
   "cell_type": "code",
   "execution_count": 7,
   "metadata": {},
   "outputs": [
    {
     "name": "stdout",
     "output_type": "stream",
     "text": [
      "b0_:  [1663.89519747]\n"
     ]
    }
   ],
   "source": [
    "b0_ = line_reg.intercept_ #y ekseniyle kesişme noktamız \n",
    "print(\"b0_: \",b0_)   # intercept the y-axis\n"
   ]
  },
  {
   "cell_type": "code",
   "execution_count": 8,
   "metadata": {},
   "outputs": [
    {
     "name": "stdout",
     "output_type": "stream",
     "text": [
      "b1:  [[1138.34819698]]\n"
     ]
    }
   ],
   "source": [
    "b1 = line_reg.coef_\n",
    "print(\"b1: \",b1)   # slope yani eğimimizi bulduk \n",
    "\n",
    "# salary = 1663 + 1138*experience \n",
    "\n"
   ]
  },
  {
   "cell_type": "code",
   "execution_count": 9,
   "metadata": {},
   "outputs": [
    {
     "name": "stdout",
     "output_type": "stream",
     "text": [
      "14181\n"
     ]
    }
   ],
   "source": [
    "new_salary = 1663 + 1138*11\n",
    "print(new_salary)"
   ]
  },
  {
   "cell_type": "code",
   "execution_count": 10,
   "metadata": {},
   "outputs": [
    {
     "name": "stdout",
     "output_type": "stream",
     "text": [
      "b11:  [[14185.72536421]]\n"
     ]
    }
   ],
   "source": [
    "b11 = line_reg.predict([[11]])\n",
    "print(\"b11: \",b11)"
   ]
  },
  {
   "cell_type": "code",
   "execution_count": 11,
   "metadata": {},
   "outputs": [
    {
     "data": {
      "image/png": "[encoded data removed]",
      "text/plain": [
       "<Figure size 432x288 with 1 Axes>"
      ]
     },
     "metadata": {
      "needs_background": "light"
     },
     "output_type": "display_data"
    }
   ],
   "source": [
    "array = np.array([0,1,2,3,4,5,6,7,8,9,10,11,12,13,14,15]).reshape(-1,1) \n",
    "plt.scatter(x,y)\n",
    "plt.show()"
   ]
  },
  {
   "cell_type": "code",
   "execution_count": 12,
   "metadata": {},
   "outputs": [
    {
     "data": {
      "text/plain": [
       "[<matplotlib.lines.Line2D at 0x7fa5972d42e0>]"
      ]
     },
     "execution_count": 12,
     "metadata": {},
     "output_type": "execute_result"
    },
    {
     "data": {
      "image/png": "[encoded data removed]",
      "text/plain": [
       "<Figure size 432x288 with 1 Axes>"
      ]
     },
     "metadata": {
      "needs_background": "light"
     },
     "output_type": "display_data"
    }
   ],
   "source": [
    "y_head = line_reg.predict(array) \n",
    "plt.plot(array, y_head,color = \"red\")"
   ]
  },
  {
   "cell_type": "code",
   "execution_count": 13,
   "metadata": {},
   "outputs": [
    {
     "name": "stdout",
     "output_type": "stream",
     "text": [
      "b11:  [[115498.71489503]]\n"
     ]
    }
   ],
   "source": [
    "b100 = line_reg.predict([[100]])\n",
    "print(\"b11: \",b100)\n"
   ]
  },
  {
   "cell_type": "code",
   "execution_count": 16,
   "metadata": {},
   "outputs": [],
   "source": [
    "#multiple linear regression\n",
    "df1 = pd.read_csv(\"/Users/bestecetin/Desktop/machine_learning/week5/multiple-linear-regression-dataset.csv\",sep = \";\")\n",
    "x = df1.iloc[:,[0,2]].values #experience,age\n",
    "y = df1.salary.values.reshape(-1,1) #salary\n",
    "# multiple linear regression y=b0+b1*x1+ b2*x2 yani y=b0 + b1*experience + b2*age"
   ]
  },
  {
   "cell_type": "code",
   "execution_count": 17,
   "metadata": {},
   "outputs": [
    {
     "name": "stdout",
     "output_type": "stream",
     "text": [
      "b0:  [10376.62747228]\n",
      "b1,b2:  [[1525.50072054 -416.72218625]]\n"
     ]
    }
   ],
   "source": [
    "m_lin_regression = LinearRegression()\n",
    "m_lin_regression.fit(x,y)\n",
    "\n",
    "print(\"b0: \", m_lin_regression.intercept_)#bias'ı buluyoruz.\n",
    "print(\"b1,b2: \",m_lin_regression.coef_)#eğimi buluyoruz"
   ]
  },
  {
   "cell_type": "code",
   "execution_count": 18,
   "metadata": {},
   "outputs": [
    {
     "data": {
      "text/plain": [
       "array([[17565.08322717],\n",
       "       [ 7586.07641862]])"
      ]
     },
     "execution_count": 18,
     "metadata": {},
     "output_type": "execute_result"
    }
   ],
   "source": [
    "m_lin_regression.predict(np.array([[14,34],[5,25]]))"
   ]
  },
  {
   "cell_type": "code",
   "execution_count": null,
   "metadata": {},
   "outputs": [],
   "source": [
    "#gerçek değer 18000 model 17565 buldu.\n",
    "#gerçek değer 8000 model 7586 buldu."
   ]
  },
  {
   "cell_type": "code",
   "execution_count": 19,
   "metadata": {},
   "outputs": [
    {
     "data": {
      "image/png": "[encoded data removed]",
      "text/plain": [
       "<Figure size 432x288 with 1 Axes>"
      ]
     },
     "metadata": {
      "needs_background": "light"
     },
     "output_type": "display_data"
    }
   ],
   "source": [
    "#polynomial-regression\n",
    "df2 = pd.read_csv(\"/Users/bestecetin/Desktop/machine_learning/week5/polynomial-regression.csv\",sep = \";\")\n",
    "\n",
    "x = df2.car_max_speed.values.reshape(-1,1)\n",
    "y = df2.car_price.values.reshape(-1,1)\n",
    "\n",
    "plt.scatter(x,y)\n",
    "plt.xlabel(\"car_max_speed\")\n",
    "plt.ylabel(\"car_price\")\n",
    "plt.show()"
   ]
  },
  {
   "cell_type": "code",
   "execution_count": 20,
   "metadata": {},
   "outputs": [
    {
     "name": "stdout",
     "output_type": "stream",
     "text": [
      "[[-105.94756942]\n",
      " [-105.94756942]\n",
      " [  43.44060784]\n",
      " [  43.44060784]\n",
      " [  43.44060784]\n",
      " [ 192.82878511]\n",
      " [ 342.21696237]\n",
      " [ 342.21696237]\n",
      " [ 790.38149415]\n",
      " [1163.85193731]\n",
      " [1163.85193731]\n",
      " [1238.54602594]\n",
      " [1275.89307025]\n",
      " [1275.89307025]\n",
      " [1275.89307025]]\n"
     ]
    },
    {
     "data": {
      "image/png": "[encoded data removed]",
      "text/plain": [
       "<Figure size 432x288 with 1 Axes>"
      ]
     },
     "metadata": {
      "needs_background": "light"
     },
     "output_type": "display_data"
    },
    {
     "name": "stdout",
     "output_type": "stream",
     "text": [
      "10 million TL car speed estimation:  [[73243.64746599]]\n"
     ]
    }
   ],
   "source": [
    "from sklearn.linear_model import LinearRegression\n",
    "\n",
    "lin_reg = LinearRegression()\n",
    "\n",
    "lin_reg.fit(x,y)\n",
    "\n",
    "y_head = lin_reg.predict(x)\n",
    "print(y_head)\n",
    "plt.scatter(x,y)\n",
    "plt.xlabel(\"car_max_speed\")\n",
    "plt.ylabel(\"car_price\")\n",
    "\n",
    "plt.plot(x,y_head,color=\"red\",label =\"linear\")\n",
    "plt.show()\n",
    "\n",
    "print(\"10 million TL car speed estimation: \",lin_reg.predict([[10000]]))"
   ]
  },
  {
   "cell_type": "code",
   "execution_count": 21,
   "metadata": {},
   "outputs": [
    {
     "name": "stdout",
     "output_type": "stream",
     "text": [
      "[[1.00000e+00 1.80000e+02 3.24000e+04]\n",
      " [1.00000e+00 1.80000e+02 3.24000e+04]\n",
      " [1.00000e+00 2.00000e+02 4.00000e+04]\n",
      " [1.00000e+00 2.00000e+02 4.00000e+04]\n",
      " [1.00000e+00 2.00000e+02 4.00000e+04]\n",
      " [1.00000e+00 2.20000e+02 4.84000e+04]\n",
      " [1.00000e+00 2.40000e+02 5.76000e+04]\n",
      " [1.00000e+00 2.40000e+02 5.76000e+04]\n",
      " [1.00000e+00 3.00000e+02 9.00000e+04]\n",
      " [1.00000e+00 3.50000e+02 1.22500e+05]\n",
      " [1.00000e+00 3.50000e+02 1.22500e+05]\n",
      " [1.00000e+00 3.60000e+02 1.29600e+05]\n",
      " [1.00000e+00 3.65000e+02 1.33225e+05]\n",
      " [1.00000e+00 3.65000e+02 1.33225e+05]\n",
      " [1.00000e+00 3.65000e+02 1.33225e+05]]\n"
     ]
    }
   ],
   "source": [
    "from sklearn.preprocessing import PolynomialFeatures\n",
    "polynomial_regression = PolynomialFeatures(degree = 2)#ikinci dereceden polinom hesabı\n",
    "\n",
    "x_polynomial = polynomial_regression.fit_transform(x)\n",
    "\n",
    "print(x_polynomial)\n"
   ]
  },
  {
   "cell_type": "code",
   "execution_count": 22,
   "metadata": {},
   "outputs": [
    {
     "data": {
      "text/plain": [
       "LinearRegression()"
      ]
     },
     "execution_count": 22,
     "metadata": {},
     "output_type": "execute_result"
    }
   ],
   "source": [
    "linear_regression2 = LinearRegression()\n",
    "linear_regression2.fit(x_polynomial,y) #fit ettik"
   ]
  },
  {
   "cell_type": "code",
   "execution_count": 23,
   "metadata": {},
   "outputs": [
    {
     "name": "stdout",
     "output_type": "stream",
     "text": [
      "[[ 227.47085254]\n",
      " [ 227.47085254]\n",
      " [  82.58069467]\n",
      " [  82.58069467]\n",
      " [  82.58069467]\n",
      " [   4.65776901]\n",
      " [  -6.29792446]\n",
      " [  -6.29792446]\n",
      " [ 362.63838832]\n",
      " [1130.48503701]\n",
      " [1130.48503701]\n",
      " [1334.2797909 ]\n",
      " [1442.45534586]\n",
      " [1442.45534586]\n",
      " [1442.45534586]]\n"
     ]
    },
    {
     "data": {
      "image/png": "[encoded data removed]",
      "text/plain": [
       "<Figure size 432x288 with 1 Axes>"
      ]
     },
     "metadata": {
      "needs_background": "light"
     },
     "output_type": "display_data"
    }
   ],
   "source": [
    " y_head2 = linear_regression2.predict(x_polynomial)\n",
    "print(y_head2)\n",
    "plt.scatter(x,y)\n",
    "plt.xlabel(\"car_max_speed\")\n",
    "plt.ylabel(\"car_price\")\n",
    "plt.plot(x,y_head,color=\"red\",label =\"linear\")\n",
    "\n",
    "plt.plot(x,y_head2,color= \"green\",label = \"poly\")\n",
    "plt.legend()\n",
    "plt.show()"
   ]
  },
  {
   "cell_type": "code",
   "execution_count": 25,
   "metadata": {},
   "outputs": [
    {
     "name": "stdout",
     "output_type": "stream",
     "text": [
      "r_square score for linear regression:  0.4745823761330056\n",
      "r_square score for polynomial regression:  0.5540532844839927\n"
     ]
    }
   ],
   "source": [
    "#R2-SCORE\n",
    "from sklearn.metrics import r2_score\n",
    "\n",
    "print(\"r_square score for linear regression: \", r2_score(y,y_head))\n",
    "\n",
    "print(\"r_square score for polynomial regression: \", r2_score(y,y_head2))"
   ]
  },
  {
   "cell_type": "code",
   "execution_count": null,
   "metadata": {},
   "outputs": [],
   "source": []
  }
 ],
 "metadata": {
  "kernelspec": {
   "display_name": "Python 3 (ipykernel)",
   "language": "python",
   "name": "python3"
  },
  "language_info": {
   "codemirror_mode": {
    "name": "ipython",
    "version": 3
   },
   "file_extension": ".py",
   "mimetype": "text/x-python",
   "name": "python",
   "nbconvert_exporter": "python",
   "pygments_lexer": "ipython3",
   "version": "3.9.7"
  }
 },
 "nbformat": 4,
 "nbformat_minor": 2
}
